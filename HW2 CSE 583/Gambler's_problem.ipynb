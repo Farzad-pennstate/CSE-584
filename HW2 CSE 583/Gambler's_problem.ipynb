{
  "nbformat": 4,
  "nbformat_minor": 0,
  "metadata": {
    "colab": {
      "provenance": []
    },
    "kernelspec": {
      "name": "python3",
      "display_name": "Python 3"
    }
  },
  "cells": [
    {
      "cell_type": "code",
      "metadata": {
        "id": "ghcRzwlDW8IM"
      },
      "source": [
        "import numpy as np\n",
        "import pandas as pd\n",
        "import matplotlib.pyplot as plt\n",
        "from google.colab import files"
      ],
      "execution_count": 1,
      "outputs": []
    },
    {
      "cell_type": "code",
      "metadata": {
        "id": "QcIhgCg1VRq8"
      },
      "source": [
        "def one_step_lookahead(s, V, rewards):\n",
        "  \"\"\"\n",
        "  Helper function to calculate the value for all action in a given state.\n",
        "\n",
        "  Args:\n",
        "    s: The gambler’s capital. Integer.\n",
        "    V: The vector that contains values at each state.\n",
        "    p_h: The probability of gambler winning the bet.\n",
        "    rewards: The reward vector.\n",
        "\n",
        "    Returns:\n",
        "    A vector containing the expected value of each action.\n",
        "    Its length equals to the number of actions.\n",
        "  \"\"\"\n",
        "  p_h= 0.25\n",
        "  A = np.zeros(101)\n",
        "  stakes = range(1, min(s, 100-s)+1) # Your minimum bet is 1, maximum bet is min(s, 100-s).\n",
        "  for a in stakes:\n",
        "    # rewards[s+a], rewards[s-a] are immediate rewards.\n",
        "    # V[s+a], V[s-a] are values of the next states.\n",
        "    # This is the core of the Bellman equation: The expected value of your action is\n",
        "    # the sum of immediate rewards and the value of the next state.\n",
        "    A[a] = p_h * (rewards[s+a] + V[s+a]*discount_factor) + (1-p_h) * (rewards[s-a] + V[s-a]*discount_factor)\n",
        "  return A"
      ],
      "execution_count": null,
      "outputs": []
    },
    {
      "cell_type": "code",
      "metadata": {
        "id": "XVnkHAtTg_1Y"
      },
      "source": [
        "# The reward is zero on all transitions except those on which the gambler reaches his goal,\n",
        "# when it is +1.\n",
        "rewards = np.zeros(101)\n",
        "rewards[100] = 1\n",
        "# We introduce two dummy states corresponding to termination with capital of 0 and 100\n",
        "V = np.zeros(101)\n",
        "discount_factor = 1\n",
        "theta = 0.0001\n",
        "while True:\n",
        "  # Stopping condition\n",
        "  delta = 0\n",
        "  # Update each state...\n",
        "  for s in range(1, 100):\n",
        "    # Do a one-step lookahead to find the best action\n",
        "    A = one_step_lookahead(s, V, rewards)\n",
        "    # print(s,A,V) # if you want to debug.\n",
        "    best_action_value = np.max(A)\n",
        "    # Calculate delta across all states seen so far\n",
        "    delta = max(delta, np.abs(best_action_value - V[s]))\n",
        "    # Update the value function. Ref: Sutton book eq. 4.10.\n",
        "    V[s] = best_action_value\n",
        "    # Check if we can stop\n",
        "  if delta < theta:\n",
        "    break\n",
        "\n",
        "# Create a deterministic policy using the optimal value function\n",
        "policy = np.zeros(100)\n",
        "for s in range(1, 100):\n",
        "  # One step lookahead to find the best action for this state\n",
        "  A = one_step_lookahead(s, V, rewards)\n",
        "  best_action = np.argmax(A)\n",
        "  # Always take the best action\n",
        "  policy[s] = best_action"
      ],
      "execution_count": null,
      "outputs": []
    },
    {
      "cell_type": "code",
      "metadata": {
        "id": "ec0yeUpxyWpH",
        "outputId": "d746e517-d1e5-4516-a67e-d3ffdbd71fc5",
        "colab": {
          "base_uri": "https://localhost:8080/",
          "height": 629
        }
      },
      "source": [
        "print(\"Optimized Policy:\")\n",
        "print(policy)\n",
        "print(\"\")\n",
        "\n",
        "print(\"Optimized Value Function:\")\n",
        "print(V)\n",
        "print(\"\")"
      ],
      "execution_count": null,
      "outputs": [
        {
          "output_type": "stream",
          "text": [
            "Optimized Policy:\n",
            "[ 0.  1.  2.  3.  4.  5.  6.  7.  8.  9. 10. 11. 12. 13. 14. 15.  9.  8.\n",
            " 18. 19. 20.  4. 22.  2.  1. 25.  1.  2.  3.  4.  5.  6.  7.  8.  9. 10.\n",
            " 11. 12. 38. 39. 40.  9. 42. 43. 44.  5. 46. 47. 48. 49. 50.  1.  2.  3.\n",
            "  4.  5.  6.  7.  8.  9. 10. 11. 12. 13. 14. 10.  9. 17. 18. 19.  5. 21.\n",
            " 22.  2.  1. 25.  1.  2.  3. 21.  5.  6.  7.  8.  9. 10. 11. 12. 12. 11.\n",
            " 10.  9.  8.  7.  6.  5.  4.  3.  2.  1.]\n",
            "\n",
            "Optimized Value Function:\n",
            "[0.00000000e+00 7.28611683e-05 2.91444673e-04 6.95264571e-04\n",
            " 1.16577869e-03 1.77125506e-03 2.78105828e-03 4.03661211e-03\n",
            " 4.66311477e-03 5.60141644e-03 7.08502024e-03 9.04088770e-03\n",
            " 1.11242331e-02 1.56796459e-02 1.61464484e-02 1.69534413e-02\n",
            " 1.86524591e-02 1.98260623e-02 2.24056658e-02 2.73847344e-02\n",
            " 2.83400810e-02 3.04945467e-02 3.61635508e-02 3.84959101e-02\n",
            " 4.44969325e-02 6.25000000e-02 6.27185835e-02 6.33743340e-02\n",
            " 6.45857937e-02 6.59973361e-02 6.78137652e-02 7.08431749e-02\n",
            " 7.46098363e-02 7.64893443e-02 7.93042493e-02 8.37550607e-02\n",
            " 8.96226631e-02 9.58726994e-02 1.09538938e-01 1.10939345e-01\n",
            " 1.13360324e-01 1.18457377e-01 1.21978187e-01 1.29716997e-01\n",
            " 1.44654203e-01 1.47520243e-01 1.53983640e-01 1.70990652e-01\n",
            " 1.77987730e-01 1.95990798e-01 2.50000000e-01 2.50218584e-01\n",
            " 2.50874334e-01 2.52085794e-01 2.53497336e-01 2.55313765e-01\n",
            " 2.58343175e-01 2.62109836e-01 2.63989344e-01 2.66804249e-01\n",
            " 2.71255061e-01 2.77122663e-01 2.83372699e-01 2.97038938e-01\n",
            " 2.98439345e-01 3.00860324e-01 3.05957377e-01 3.09478187e-01\n",
            " 3.17216997e-01 3.32154203e-01 3.35020243e-01 3.41483640e-01\n",
            " 3.58490652e-01 3.65487730e-01 3.83490798e-01 4.37500000e-01\n",
            " 4.38155751e-01 4.40123002e-01 4.43757381e-01 4.47992008e-01\n",
            " 4.53441296e-01 4.62529525e-01 4.73829509e-01 4.79468033e-01\n",
            " 4.87912748e-01 5.01265182e-01 5.18867989e-01 5.37618098e-01\n",
            " 5.78616813e-01 5.82818036e-01 5.90080972e-01 6.05372132e-01\n",
            " 6.15934561e-01 6.39150992e-01 6.83962610e-01 6.92560729e-01\n",
            " 7.11950921e-01 7.62971957e-01 7.83963191e-01 8.37972393e-01\n",
            " 0.00000000e+00]\n",
            "\n"
          ],
          "name": "stdout"
        }
      ]
    },
    {
      "cell_type": "code",
      "metadata": {
        "id": "JthakkNpIKcg",
        "outputId": "3622adfa-2791-49d6-dc67-669a566fed0a",
        "colab": {
          "base_uri": "https://localhost:8080/",
          "height": 295
        }
      },
      "source": [
        "# Plotting Final Policy (action stake) vs State (Capital)\n",
        "\n",
        "# x axis values\n",
        "x = range(100)\n",
        "# corresponding y axis values\n",
        "y = V[:100]\n",
        "\n",
        "# plotting the points\n",
        "plt.plot(x, y)\n",
        "\n",
        "# naming the x axis\n",
        "plt.xlabel('Capital')\n",
        "# naming the y axis\n",
        "plt.ylabel('Value Estimates')\n",
        "\n",
        "# giving a title to the graph\n",
        "plt.title('Final Policy (action stake) vs State (Capital)')\n",
        "\n",
        "# function to show the plot\n",
        "plt.show()"
      ],
      "execution_count": null,
      "outputs": [
        {
          "output_type": "display_data",
          "data": {
            "image/png": "[encoded data removed]",
            "text/plain": [
              "<Figure size 432x288 with 1 Axes>"
            ]
          },
          "metadata": {
            "tags": [],
            "needs_background": "light"
          }
        }
      ]
    },
    {
      "cell_type": "code",
      "metadata": {
        "id": "bsDp6u-VVx5g",
        "outputId": "412cde31-75f6-4bf3-b886-07f4ab532b47",
        "colab": {
          "base_uri": "https://localhost:8080/",
          "height": 295
        }
      },
      "source": [
        "\n",
        "# Plotting Capital vs Final Policy\n",
        "\n",
        "# x axis values\n",
        "x = range(100)\n",
        "# corresponding y axis values\n",
        "y = policy\n",
        "\n",
        "# plotting the bars\n",
        "plt.bar(x, y, align='center', alpha=0.5)\n",
        "\n",
        "# naming the x axis\n",
        "plt.xlabel('Capital')\n",
        "# naming the y axis\n",
        "plt.ylabel('Final policy (stake)')\n",
        "\n",
        "# giving a title to the graph\n",
        "plt.title('Capital vs Final Policy')\n",
        "\n",
        "# function to show the plot\n",
        "plt.show()"
      ],
      "execution_count": null,
      "outputs": [
        {
          "output_type": "display_data",
          "data": {
            "image/png": "[encoded data removed]",
            "text/plain": [
              "<Figure size 432x288 with 1 Axes>"
            ]
          },
          "metadata": {
            "tags": [],
            "needs_background": "light"
          }
        }
      ]
    }
  ]
}